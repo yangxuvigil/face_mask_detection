{
 "cells": [
  {
   "cell_type": "code",
   "execution_count": 1,
   "metadata": {},
   "outputs": [],
   "source": [
    "import numpy as np # linear algebra\n",
    "import pandas as pd # data processing, CSV file I/O (e.g. pd.read_csv)\n",
    "from bs4 import BeautifulSoup\n",
    "import torchvision\n",
    "from torchvision import transforms, datasets, models\n",
    "import torch\n",
    "from torchvision.models.detection.faster_rcnn import FastRCNNPredictor\n",
    "from PIL import Image\n",
    "import matplotlib.pyplot as plt\n",
    "from torchvision.models.detection.mask_rcnn import MaskRCNNPredictor\n",
    "import matplotlib.patches as patches\n",
    "import os\n",
    "from importlib import reload\n",
    "import cvn_utils\n",
    "import kaggle_utils\n",
    "import math"
   ]
  },
  {
   "cell_type": "code",
   "execution_count": 2,
   "metadata": {},
   "outputs": [
    {
     "name": "stdout",
     "output_type": "stream",
     "text": [
      "Sun Sep 13 01:19:46 2020       \r\n",
      "+-----------------------------------------------------------------------------+\r\n",
      "| NVIDIA-SMI 418.87.01    Driver Version: 418.87.01    CUDA Version: 10.1     |\r\n",
      "|-------------------------------+----------------------+----------------------+\r\n",
      "| GPU  Name        Persistence-M| Bus-Id        Disp.A | Volatile Uncorr. ECC |\r\n",
      "| Fan  Temp  Perf  Pwr:Usage/Cap|         Memory-Usage | GPU-Util  Compute M. |\r\n",
      "|===============================+======================+======================|\r\n",
      "|   0  Tesla P100-PCIE...  Off  | 00000000:00:04.0 Off |                    0 |\r\n",
      "| N/A   44C    P0    27W / 250W |      0MiB / 16280MiB |      0%      Default |\r\n",
      "+-------------------------------+----------------------+----------------------+\r\n",
      "                                                                               \r\n",
      "+-----------------------------------------------------------------------------+\r\n",
      "| Processes:                                                       GPU Memory |\r\n",
      "|  GPU       PID   Type   Process name                             Usage      |\r\n",
      "|=============================================================================|\r\n",
      "|  No running processes found                                                 |\r\n",
      "+-----------------------------------------------------------------------------+\r\n"
     ]
    }
   ],
   "source": [
    "!nvidia-smi"
   ]
  },
  {
   "cell_type": "code",
   "execution_count": 3,
   "metadata": {},
   "outputs": [
    {
     "data": {
      "text/plain": [
       "True"
      ]
     },
     "execution_count": 3,
     "metadata": {},
     "output_type": "execute_result"
    }
   ],
   "source": [
    "torch.cuda.is_available()"
   ]
  },
  {
   "cell_type": "markdown",
   "metadata": {},
   "source": [
    "## Find image file from label file"
   ]
  },
  {
   "cell_type": "code",
   "execution_count": 4,
   "metadata": {},
   "outputs": [],
   "source": [
    "def is_kaggle_annotation_file(file_name):\n",
    "    return 'annotations' in file_name and 'xml' in file_name\n",
    " \n",
    "def is_cvn_json_file(file_name):\n",
    "    return ('faces' in file_name) and ('json' in file_name)\n",
    "\n",
    "def cvn_json_has_box(json_fn):\n",
    "    processor = cvn_utils.JsonFileProcessor(json_fn)\n",
    "    processor.load()\n",
    "    return len(processor.resized_boxes) != 0\n",
    "        "
   ]
  },
  {
   "cell_type": "markdown",
   "metadata": {},
   "source": [
    "### Walk over annotation files of both kaggle and cvn"
   ]
  },
  {
   "cell_type": "code",
   "execution_count": 5,
   "metadata": {},
   "outputs": [
    {
     "name": "stdout",
     "output_type": "stream",
     "text": [
      "kaggle file num = 853, cvn file num = 517, all label file num = 1370\n"
     ]
    }
   ],
   "source": [
    "reload(cvn_utils)\n",
    "kaggle_label_fns = []\n",
    "cvn_label_fns = []\n",
    "for dirname, _, filenames in os.walk('/home/yangxu/face_mask_detection_workspace/'):\n",
    "    for filename in filenames:\n",
    "        annotation_full_name = os.path.join(dirname, filename)\n",
    "        if is_kaggle_annotation_file(annotation_full_name):\n",
    "            kaggle_label_fns.append(annotation_full_name)\n",
    "        elif is_cvn_json_file(annotation_full_name):              \n",
    "            if cvn_json_has_box(annotation_full_name):\n",
    "                cvn_label_fns.append(annotation_full_name)\n",
    "            else:\n",
    "                continue\n",
    "        else:\n",
    "            continue        \n",
    "           \n",
    "print ('kaggle file num = {}, cvn file num = {}, all label file num = {}'.format(\n",
    "        len(kaggle_label_fns), \n",
    "        len(cvn_label_fns),\n",
    "        len(kaggle_label_fns) + len(cvn_label_fns)))\n"
   ]
  },
  {
   "cell_type": "code",
   "execution_count": 6,
   "metadata": {},
   "outputs": [],
   "source": [
    "class MaskDataset(object):\n",
    "    def __init__(self, transforms):\n",
    "        self.transforms = transforms        \n",
    "#         self.all_label_fns = kaggle_and_cvn_label_fns\n",
    "        self.all_label_fns = cvn_label_fns\n",
    "\n",
    "    def gen_target_kaggle(self, idx, label_fn):       \n",
    "        return kaggle_utils.generate_target(idx, label_fn)\n",
    "        \n",
    "    def __getitem__(self, idx):        \n",
    "        img = None\n",
    "        taret = None\n",
    "        \n",
    "        label_fn = self.all_label_fns[idx]        \n",
    "        \n",
    "        #Generate Label\n",
    "        if is_kaggle_annotation_file(label_fn):\n",
    "            img_fn = kaggle_utils.find_image_file_kaggle(label_fn)\n",
    "            img = Image.open(img_fn).convert(\"RGB\") \n",
    "            target = kaggle_utils.generate_target(idx, label_fn)\n",
    "            if self.transforms is not None:\n",
    "                img = self.transforms(img)\n",
    "#                 print('kaggle image shape = {}, min = {}, max = {}'.format( \n",
    "#                       img.shape, torch.min(img), torch.max(img)))\n",
    "        else:\n",
    "            processor = cvn_utils.JsonFileProcessor(label_fn)\n",
    "            processor.load()\n",
    "            img = processor.generate_image_tensor()\n",
    "            target = processor.generate_target(idx)\n",
    "#             cvn_idx_to_label_fn_dict[idx] = (img, target, label_fn)\n",
    "#             print('cvn image shape = {}, min = {}, max = {}'.format( \n",
    "#                       img.shape, torch.min(img), torch.max(img)))\n",
    "        \n",
    "        \n",
    "\n",
    "        return img, target\n",
    "\n",
    "    def __len__(self):\n",
    "        return len(self.all_label_fns)"
   ]
  },
  {
   "cell_type": "code",
   "execution_count": 7,
   "metadata": {},
   "outputs": [],
   "source": [
    "data_transform = transforms.Compose([\n",
    "        transforms.ToTensor(), \n",
    "    ])"
   ]
  },
  {
   "cell_type": "code",
   "execution_count": 8,
   "metadata": {},
   "outputs": [],
   "source": [
    "def collate_fn(batch):\n",
    "    return tuple(zip(*batch))\n",
    "\n",
    "dataset = MaskDataset(data_transform)\n",
    "data_loader = torch.utils.data.DataLoader(\n",
    " dataset, batch_size=4, collate_fn=collate_fn, num_workers=1)\n"
   ]
  },
  {
   "cell_type": "code",
   "execution_count": 9,
   "metadata": {},
   "outputs": [],
   "source": [
    "def get_model_instance_segmentation(num_classes):\n",
    "    # load an instance segmentation model pre-trained pre-trained on COCO\n",
    "    model = torchvision.models.detection.fasterrcnn_resnet50_fpn(pretrained=True)\n",
    "    # get number of input features for the classifier\n",
    "    in_features = model.roi_heads.box_predictor.cls_score.in_features\n",
    "    # replace the pre-trained head with a new one\n",
    "    model.roi_heads.box_predictor = FastRCNNPredictor(in_features, num_classes)\n",
    "\n",
    "    return model"
   ]
  },
  {
   "cell_type": "code",
   "execution_count": 10,
   "metadata": {},
   "outputs": [],
   "source": [
    "model = get_model_instance_segmentation(3)"
   ]
  },
  {
   "cell_type": "code",
   "execution_count": 11,
   "metadata": {},
   "outputs": [],
   "source": [
    "device = torch.device('cuda') if torch.cuda.is_available() else torch.device('cpu')\n",
    "# for imgs, annotations in data_loader:\n",
    "#     imgs = list(img.to(device) for img in imgs)   \n",
    "#     annotations = [{k: v.to(device) for k, v in t.items()} for t in annotations]\n",
    "   \n",
    "#     break"
   ]
  },
  {
   "cell_type": "code",
   "execution_count": null,
   "metadata": {},
   "outputs": [
    {
     "name": "stderr",
     "output_type": "stream",
     "text": [
      "/home/yangxu/.local/lib/python3.5/site-packages/torch/nn/functional.py:2854: UserWarning: The default behavior for interpolate/upsample with float scale_factor will change in 1.6.0 to align with other frameworks/libraries, and use scale_factor directly, instead of relying on the computed output size. If you wish to keep the old behavior, please set recompute_scale_factor=True. See the documentation of nn.Upsample for details. \n",
      "  warnings.warn(\"The default behavior for interpolate/upsample with float scale_factor will change \"\n",
      "/pytorch/torch/csrc/utils/python_arg_parser.cpp:756: UserWarning: This overload of nonzero is deprecated:\n",
      "\tnonzero(Tensor input, *, Tensor out)\n",
      "Consider using one of the following signatures instead:\n",
      "\tnonzero(Tensor input, *, bool as_tuple)\n"
     ]
    },
    {
     "name": "stdout",
     "output_type": "stream",
     "text": [
      "== iteration loss: 10, 0.4195733964443207\n",
      "== iteration loss: 20, 0.19084376096725464\n",
      "== iteration loss: 30, 0.22622358798980713\n",
      "== iteration loss: 40, 0.27754709124565125\n",
      "== iteration loss: 50, 0.15347209572792053\n",
      "== iteration loss: 60, 0.14339622855186462\n",
      "== iteration loss: 70, 0.19514775276184082\n",
      "== iteration loss: 80, 0.25687921047210693\n",
      "== iteration loss: 90, 0.2749450206756592\n",
      "== iteration loss: 100, 0.2593366801738739\n",
      "== iteration loss: 110, 0.11658702790737152\n",
      "== iteration loss: 120, 0.08648967742919922\n",
      "== iteration loss: 130, 0.0751197338104248\n",
      "==== epoch = 0, epoch_loss = 29.216768264770508\n",
      "== iteration loss: 10, 0.3130526542663574\n",
      "== iteration loss: 20, 0.14033275842666626\n",
      "== iteration loss: 30, 0.21675266325473785\n",
      "== iteration loss: 40, 0.1584397256374359\n",
      "== iteration loss: 50, 0.08838857710361481\n",
      "== iteration loss: 60, 0.11065880954265594\n",
      "== iteration loss: 70, 0.13527792692184448\n",
      "== iteration loss: 80, 0.21219906210899353\n",
      "== iteration loss: 90, 0.21110881865024567\n",
      "== iteration loss: 100, 0.17310522496700287\n",
      "== iteration loss: 110, 0.07791060209274292\n",
      "== iteration loss: 120, 0.05857580155134201\n",
      "== iteration loss: 130, 0.036459192633628845\n",
      "==== epoch = 1, epoch_loss = 18.13703155517578\n",
      "== iteration loss: 10, 0.2531609833240509\n",
      "== iteration loss: 20, 0.11984666436910629\n",
      "== iteration loss: 30, 0.15363195538520813\n",
      "== iteration loss: 40, 0.13477014005184174\n",
      "== iteration loss: 50, 0.056516584008932114\n",
      "== iteration loss: 60, 0.061786945909261703\n",
      "== iteration loss: 70, 0.10011625289916992\n",
      "== iteration loss: 80, 0.1690302938222885\n",
      "== iteration loss: 90, 0.16493704915046692\n",
      "== iteration loss: 100, 0.12535008788108826\n",
      "== iteration loss: 110, 0.07549010962247849\n",
      "== iteration loss: 120, 0.050400830805301666\n",
      "== iteration loss: 130, 0.06640848517417908\n",
      "==== epoch = 2, epoch_loss = 13.800817489624023\n",
      "== iteration loss: 10, 0.20372134447097778\n",
      "== iteration loss: 20, 0.08615221083164215\n",
      "== iteration loss: 30, 0.11349709331989288\n",
      "== iteration loss: 40, 0.09701967984437943\n",
      "== iteration loss: 50, 0.04358409717679024\n",
      "== iteration loss: 60, 0.04553551971912384\n",
      "== iteration loss: 70, 0.05448942631483078\n",
      "== iteration loss: 80, 0.16689738631248474\n",
      "== iteration loss: 90, 0.1489173173904419\n",
      "== iteration loss: 100, 0.12425605207681656\n",
      "== iteration loss: 110, 0.03713708370923996\n",
      "== iteration loss: 120, 0.05524975061416626\n",
      "== iteration loss: 130, 0.04706089571118355\n",
      "==== epoch = 3, epoch_loss = 11.54659366607666\n",
      "== iteration loss: 10, 0.14935308694839478\n",
      "== iteration loss: 20, 0.08958272635936737\n",
      "== iteration loss: 30, 0.07962528616189957\n",
      "== iteration loss: 40, 0.08997124433517456\n",
      "== iteration loss: 50, 0.04241009056568146\n",
      "== iteration loss: 60, 0.03379146754741669\n",
      "== iteration loss: 70, 0.04476652294397354\n",
      "== iteration loss: 80, 0.12715497612953186\n",
      "== iteration loss: 90, 0.11536285281181335\n",
      "== iteration loss: 100, 0.08618412166833878\n",
      "== iteration loss: 110, 0.030547555536031723\n",
      "== iteration loss: 120, 0.06138019263744354\n",
      "== iteration loss: 130, 0.03737469017505646\n",
      "==== epoch = 4, epoch_loss = 9.874268531799316\n",
      "== iteration loss: 10, 0.13659295439720154\n",
      "== iteration loss: 20, 0.06124020367860794\n",
      "== iteration loss: 30, 0.08902695775032043\n",
      "== iteration loss: 40, 0.05852130055427551\n",
      "== iteration loss: 50, 0.0447625070810318\n",
      "== iteration loss: 60, 0.03412214666604996\n",
      "== iteration loss: 70, 0.04448329657316208\n",
      "== iteration loss: 80, 0.12261319160461426\n",
      "== iteration loss: 90, 0.12741151452064514\n",
      "== iteration loss: 100, 0.08825349062681198\n",
      "== iteration loss: 110, 0.030074995011091232\n",
      "== iteration loss: 120, 0.04613357409834862\n",
      "== iteration loss: 130, 0.046066053211688995\n",
      "==== epoch = 5, epoch_loss = 9.438319206237793\n",
      "== iteration loss: 10, 0.13245318830013275\n",
      "== iteration loss: 20, 0.064332515001297\n",
      "== iteration loss: 30, 0.06437541544437408\n",
      "== iteration loss: 40, 0.04317871481180191\n",
      "== iteration loss: 50, 0.03071218729019165\n",
      "== iteration loss: 60, 0.03923961520195007\n",
      "== iteration loss: 70, 0.03100450150668621\n",
      "== iteration loss: 80, 0.12731920182704926\n",
      "== iteration loss: 90, 0.11497784405946732\n",
      "== iteration loss: 100, 0.0832420364022255\n",
      "== iteration loss: 110, 0.028058944270014763\n",
      "== iteration loss: 120, 0.037109341472387314\n",
      "== iteration loss: 130, 0.01887153834104538\n",
      "==== epoch = 6, epoch_loss = 9.019153594970703\n",
      "== iteration loss: 10, 0.10662561655044556\n",
      "== iteration loss: 20, 0.04837990924715996\n",
      "== iteration loss: 30, 0.06868333369493484\n",
      "== iteration loss: 40, 0.04240289330482483\n",
      "== iteration loss: 50, 0.02487754449248314\n",
      "== iteration loss: 60, 0.03398537635803223\n",
      "== iteration loss: 70, 0.03230331838130951\n",
      "== iteration loss: 80, 0.10656994581222534\n",
      "== iteration loss: 90, 0.11865364015102386\n",
      "== iteration loss: 100, 0.08083055913448334\n",
      "== iteration loss: 110, 0.03035571053624153\n",
      "== iteration loss: 120, 0.02942069061100483\n",
      "== iteration loss: 130, 0.021912747994065285\n",
      "==== epoch = 7, epoch_loss = 8.059333801269531\n",
      "== iteration loss: 10, 0.12075918912887573\n",
      "== iteration loss: 20, 0.0463092178106308\n",
      "== iteration loss: 30, 0.06741693615913391\n",
      "== iteration loss: 40, 0.04071181267499924\n",
      "== iteration loss: 50, 0.026714887470006943\n",
      "== iteration loss: 60, 0.029775111004710197\n",
      "== iteration loss: 70, 0.036956947296857834\n",
      "== iteration loss: 80, 0.11658374965190887\n",
      "== iteration loss: 90, 0.12276890128850937\n",
      "== iteration loss: 100, 0.10477767139673233\n",
      "== iteration loss: 110, 0.030302757397294044\n",
      "== iteration loss: 120, 0.027635496109724045\n",
      "== iteration loss: 130, 0.02174844779074192\n",
      "==== epoch = 8, epoch_loss = 8.331372261047363\n",
      "== iteration loss: 10, 0.11380501091480255\n",
      "== iteration loss: 20, 0.0733756348490715\n",
      "== iteration loss: 30, 0.07263485342264175\n",
      "== iteration loss: 40, 0.04834504425525665\n",
      "== iteration loss: 50, 0.029594440013170242\n",
      "== iteration loss: 60, 0.0393904373049736\n",
      "== iteration loss: 70, 0.04503097012639046\n",
      "== iteration loss: 80, 0.09503315389156342\n",
      "== iteration loss: 90, 0.11317264288663864\n",
      "== iteration loss: 100, 0.08245646953582764\n",
      "== iteration loss: 110, 0.02869277074933052\n",
      "== iteration loss: 120, 0.029948372393846512\n",
      "== iteration loss: 130, 0.013689914718270302\n",
      "==== epoch = 9, epoch_loss = 7.762833118438721\n",
      "== iteration loss: 10, 0.12246394902467728\n",
      "== iteration loss: 20, 0.06600474566221237\n",
      "== iteration loss: 30, 0.05987614393234253\n",
      "== iteration loss: 40, 0.039704229682683945\n",
      "== iteration loss: 50, 0.021831165999174118\n",
      "== iteration loss: 60, 0.021476823836565018\n",
      "== iteration loss: 70, 0.02928338572382927\n",
      "== iteration loss: 80, 0.12071847170591354\n",
      "== iteration loss: 90, 0.1055484265089035\n",
      "== iteration loss: 100, 0.09978518635034561\n",
      "== iteration loss: 110, 0.02626931294798851\n",
      "== iteration loss: 120, 0.03167753294110298\n",
      "== iteration loss: 130, 0.016956675797700882\n",
      "==== epoch = 10, epoch_loss = 7.685807228088379\n",
      "== iteration loss: 10, 0.10899627953767776\n",
      "== iteration loss: 20, 0.056071385741233826\n",
      "== iteration loss: 30, 0.07334518432617188\n",
      "== iteration loss: 40, 0.05338484048843384\n",
      "== iteration loss: 50, 0.027239548042416573\n",
      "== iteration loss: 60, 0.019298233091831207\n",
      "== iteration loss: 70, 0.03320351615548134\n",
      "== iteration loss: 80, 0.09925063699483871\n",
      "== iteration loss: 90, 0.09154020249843597\n",
      "== iteration loss: 100, 0.08670436590909958\n",
      "== iteration loss: 110, 0.027496833354234695\n",
      "== iteration loss: 120, 0.029439162462949753\n",
      "== iteration loss: 130, 0.017328664660453796\n",
      "==== epoch = 11, epoch_loss = 7.427516937255859\n",
      "== iteration loss: 10, 0.11732295155525208\n",
      "== iteration loss: 20, 0.05382365360856056\n",
      "== iteration loss: 30, 0.08376235514879227\n",
      "== iteration loss: 40, 0.04373003542423248\n",
      "== iteration loss: 50, 0.027707207947969437\n",
      "== iteration loss: 60, 0.026831604540348053\n",
      "== iteration loss: 70, 0.032143980264663696\n",
      "== iteration loss: 80, 0.09499560296535492\n",
      "== iteration loss: 90, 0.10287477821111679\n",
      "== iteration loss: 100, 0.06353545188903809\n",
      "== iteration loss: 110, 0.02486051805317402\n",
      "== iteration loss: 120, 0.02363291010260582\n",
      "== iteration loss: 130, 0.015882069244980812\n",
      "==== epoch = 12, epoch_loss = 7.428592681884766\n",
      "== iteration loss: 10, 0.09723279625177383\n",
      "== iteration loss: 20, 0.039199963212013245\n",
      "== iteration loss: 30, 0.04494135454297066\n",
      "== iteration loss: 40, 0.03653627634048462\n",
      "== iteration loss: 50, 0.01872624084353447\n",
      "== iteration loss: 60, 0.015482249669730663\n"
     ]
    },
    {
     "name": "stdout",
     "output_type": "stream",
     "text": [
      "== iteration loss: 70, 0.01818263903260231\n",
      "== iteration loss: 80, 0.06691490113735199\n",
      "== iteration loss: 90, 0.0729772299528122\n",
      "== iteration loss: 100, 0.05982150137424469\n",
      "== iteration loss: 110, 0.019115695729851723\n",
      "== iteration loss: 120, 0.02370421774685383\n",
      "== iteration loss: 130, 0.010228545404970646\n",
      "==== epoch = 13, epoch_loss = 5.758670330047607\n",
      "== iteration loss: 10, 0.09413512051105499\n",
      "== iteration loss: 20, 0.037096358835697174\n",
      "== iteration loss: 30, 0.06340176612138748\n",
      "== iteration loss: 40, 0.038266416639089584\n",
      "== iteration loss: 50, 0.016228891909122467\n",
      "== iteration loss: 60, 0.016429532319307327\n",
      "== iteration loss: 70, 0.02789754420518875\n",
      "== iteration loss: 80, 0.08571842312812805\n",
      "== iteration loss: 90, 0.09493854641914368\n",
      "== iteration loss: 100, 0.06605976819992065\n",
      "== iteration loss: 110, 0.0214392002671957\n",
      "== iteration loss: 120, 0.021621311083436012\n",
      "== iteration loss: 130, 0.012854911386966705\n",
      "==== epoch = 14, epoch_loss = 6.051639080047607\n",
      "== iteration loss: 10, 0.10699556022882462\n",
      "== iteration loss: 20, 0.043965406715869904\n",
      "== iteration loss: 30, 0.03754137456417084\n",
      "== iteration loss: 40, 0.030473198741674423\n",
      "== iteration loss: 50, 0.015698321163654327\n",
      "== iteration loss: 60, 0.014072606340050697\n",
      "== iteration loss: 70, 0.020353876054286957\n",
      "== iteration loss: 80, 0.07076065987348557\n",
      "== iteration loss: 90, 0.07188135385513306\n",
      "== iteration loss: 100, 0.06701382994651794\n",
      "== iteration loss: 110, 0.020029855892062187\n",
      "== iteration loss: 120, 0.02506280690431595\n",
      "== iteration loss: 130, 0.012255759909749031\n",
      "==== epoch = 15, epoch_loss = 5.633567810058594\n",
      "== iteration loss: 10, 0.08978797495365143\n",
      "== iteration loss: 20, 0.036844439804553986\n",
      "== iteration loss: 30, 0.042264424264431\n",
      "== iteration loss: 40, 0.028071485459804535\n",
      "== iteration loss: 50, 0.014989957213401794\n",
      "== iteration loss: 60, 0.01053165178745985\n",
      "== iteration loss: 70, 0.017731593921780586\n",
      "== iteration loss: 80, 0.06362427771091461\n",
      "== iteration loss: 90, 0.05499804764986038\n",
      "== iteration loss: 100, 0.05513828620314598\n",
      "== iteration loss: 110, 0.027469806373119354\n",
      "== iteration loss: 120, 0.026424981653690338\n",
      "== iteration loss: 130, 0.007644291035830975\n",
      "==== epoch = 16, epoch_loss = 5.025381088256836\n",
      "== iteration loss: 10, 0.0834258571267128\n",
      "== iteration loss: 20, 0.04523147642612457\n",
      "== iteration loss: 30, 0.05795956403017044\n",
      "== iteration loss: 40, 0.03203118219971657\n",
      "== iteration loss: 50, 0.01652531698346138\n",
      "== iteration loss: 60, 0.019027482718229294\n",
      "== iteration loss: 70, 0.023680608719587326\n",
      "== iteration loss: 80, 0.07111130654811859\n",
      "== iteration loss: 90, 0.0683383047580719\n",
      "== iteration loss: 100, 0.05865919589996338\n",
      "== iteration loss: 110, 0.02980407141149044\n",
      "== iteration loss: 120, 0.029141906648874283\n",
      "== iteration loss: 130, 0.013617673888802528\n",
      "==== epoch = 17, epoch_loss = 5.6389594078063965\n",
      "== iteration loss: 10, 0.09385813027620316\n",
      "== iteration loss: 20, 0.043504126369953156\n",
      "== iteration loss: 30, 0.07198663800954819\n",
      "== iteration loss: 40, 0.03189491480588913\n",
      "== iteration loss: 50, 0.014398137107491493\n",
      "== iteration loss: 60, 0.012256818823516369\n",
      "== iteration loss: 70, 0.028042279183864594\n",
      "== iteration loss: 80, 0.08896329998970032\n",
      "== iteration loss: 90, 0.08535775542259216\n",
      "== iteration loss: 100, 0.0581536628305912\n",
      "== iteration loss: 110, 0.021227072924375534\n",
      "== iteration loss: 120, 0.02188863418996334\n",
      "== iteration loss: 130, 0.014113242737948895\n",
      "==== epoch = 18, epoch_loss = 6.284392356872559\n",
      "== iteration loss: 10, 0.09316616505384445\n",
      "== iteration loss: 20, 0.03983733803033829\n",
      "== iteration loss: 30, 0.05902775749564171\n",
      "== iteration loss: 40, 0.02499965950846672\n",
      "== iteration loss: 50, 0.012703974731266499\n",
      "== iteration loss: 60, 0.017017314210534096\n",
      "== iteration loss: 70, 0.017694173380732536\n",
      "== iteration loss: 80, 0.0908346101641655\n",
      "== iteration loss: 90, 0.0699746310710907\n",
      "== iteration loss: 100, 0.06266767531633377\n",
      "== iteration loss: 110, 0.017700746655464172\n",
      "== iteration loss: 120, 0.024834072217345238\n",
      "== iteration loss: 130, 0.012987005524337292\n",
      "==== epoch = 19, epoch_loss = 5.8385467529296875\n",
      "== iteration loss: 10, 0.1198122650384903\n",
      "== iteration loss: 20, 0.04978099837899208\n",
      "== iteration loss: 30, 0.055767107754945755\n",
      "== iteration loss: 40, 0.021715374663472176\n",
      "== iteration loss: 50, 0.015773363411426544\n",
      "== iteration loss: 60, 0.011465620249509811\n",
      "== iteration loss: 70, 0.010943196713924408\n",
      "== iteration loss: 80, 0.04824090003967285\n",
      "== iteration loss: 90, 0.056678205728530884\n",
      "== iteration loss: 100, 0.05626735836267471\n",
      "== iteration loss: 110, 0.018314475193619728\n",
      "== iteration loss: 120, 0.01808498613536358\n",
      "== iteration loss: 130, 0.01285105012357235\n",
      "==== epoch = 20, epoch_loss = 5.218425750732422\n",
      "== iteration loss: 10, 0.09847375750541687\n",
      "== iteration loss: 20, 0.039029810577631\n",
      "== iteration loss: 30, 0.05929792672395706\n",
      "== iteration loss: 40, 0.023868760094046593\n",
      "== iteration loss: 50, 0.01775394007563591\n",
      "== iteration loss: 60, 0.011577477678656578\n",
      "== iteration loss: 70, 0.023084323853254318\n",
      "== iteration loss: 80, 0.05688635632395744\n",
      "== iteration loss: 90, 0.06497343629598618\n",
      "== iteration loss: 100, 0.043993640691041946\n",
      "== iteration loss: 110, 0.024283699691295624\n",
      "== iteration loss: 120, 0.019622018560767174\n",
      "== iteration loss: 130, 0.015872854739427567\n",
      "==== epoch = 21, epoch_loss = 5.453307151794434\n",
      "== iteration loss: 10, 0.09454789012670517\n",
      "== iteration loss: 20, 0.051215559244155884\n",
      "== iteration loss: 30, 0.045071087777614594\n"
     ]
    }
   ],
   "source": [
    "num_epochs = 25\n",
    "model.to(device)\n",
    "    \n",
    "# parameters\n",
    "params = [p for p in model.parameters() if p.requires_grad]\n",
    "optimizer = torch.optim.SGD(params, lr=0.005,\n",
    "                                momentum=0.9, weight_decay=0.0005)\n",
    "\n",
    "len_dataloader = len(data_loader)\n",
    "\n",
    "for epoch in range(num_epochs):\n",
    "    model.train()\n",
    "    i = 0    \n",
    "    epoch_loss = 0\n",
    "    for imgs, annotations in data_loader:\n",
    "        i += 1\n",
    "        \n",
    "        imgs = list(img.to(device) for img in imgs)\n",
    "        annotations = [{k: v.to(device) for k, v in t.items()} for t in annotations]\n",
    "               \n",
    "        loss_dict = model(imgs, annotations)\n",
    "        losses = sum(loss for loss in loss_dict.values())      \n",
    "            \n",
    "        optimizer.zero_grad()\n",
    "        losses.backward()\n",
    "        optimizer.step() \n",
    "        epoch_loss += losses\n",
    "        if i % 10 == 0:\n",
    "            print('== iteration loss: {}, {}'.format(i, losses))\n",
    "    print('==== epoch = {}, epoch_loss = {}'.format(epoch, epoch_loss))\n"
   ]
  },
  {
   "cell_type": "code",
   "execution_count": null,
   "metadata": {},
   "outputs": [],
   "source": [
    "torch.save(model.state_dict(),'model.pt')"
   ]
  },
  {
   "cell_type": "code",
   "execution_count": null,
   "metadata": {},
   "outputs": [],
   "source": [
    "def plot_image(img_tensor, target_tensor):\n",
    "    fig,ax = plt.subplots(1)\n",
    "    img = img_tensor.cpu().data\n",
    "\n",
    "    # Display the image\n",
    "    ax.imshow(img.permute(1, 2, 0))\n",
    "\n",
    "    for box in target_tensor['boxes'].detach().cpu().numpy():\n",
    "        xmin, ymin, xmax, ymax = box\n",
    "        rect = patches.Rectangle((xmin,ymin),(xmax-xmin),(ymax-ymin),linewidth=1,edgecolor='r',facecolor='none')\n",
    "\n",
    "        # Add the patch to the Axes\n",
    "        ax.add_patch(rect)\n",
    "\n",
    "    plt.show()    "
   ]
  },
  {
   "cell_type": "code",
   "execution_count": null,
   "metadata": {},
   "outputs": [],
   "source": [
    "plot_image(nan_img, nan_label)"
   ]
  },
  {
   "cell_type": "code",
   "execution_count": null,
   "metadata": {},
   "outputs": [],
   "source": [
    "nan_label['boxes']"
   ]
  },
  {
   "cell_type": "code",
   "execution_count": null,
   "metadata": {},
   "outputs": [],
   "source": [
    "nan_label_before_device['boxes']"
   ]
  },
  {
   "cell_type": "code",
   "execution_count": null,
   "metadata": {},
   "outputs": [],
   "source": [
    "plot_image(nan_img_before_device, nan_label_before_device)\n"
   ]
  },
  {
   "cell_type": "code",
   "execution_count": null,
   "metadata": {},
   "outputs": [],
   "source": [
    "nan_label_before_device['boxes']"
   ]
  },
  {
   "cell_type": "code",
   "execution_count": null,
   "metadata": {},
   "outputs": [],
   "source": [
    "device_nan_label_before_device = nan_label_before_device['boxes'].to(device)"
   ]
  },
  {
   "cell_type": "code",
   "execution_count": null,
   "metadata": {},
   "outputs": [],
   "source": [
    "device_nan_label_before_device = {k: v.to(device) for k, v in nan_label_before_device.items()}"
   ]
  },
  {
   "cell_type": "code",
   "execution_count": null,
   "metadata": {},
   "outputs": [],
   "source": [
    "nan_label_before_device"
   ]
  },
  {
   "cell_type": "code",
   "execution_count": null,
   "metadata": {},
   "outputs": [],
   "source": [
    "plot_image(nan_img_before_device, device_nan_label_before_device)"
   ]
  },
  {
   "cell_type": "code",
   "execution_count": null,
   "metadata": {},
   "outputs": [],
   "source": [
    "plot_image(nan_img_before_model, nan_label_before_model)"
   ]
  },
  {
   "cell_type": "code",
   "execution_count": null,
   "metadata": {},
   "outputs": [],
   "source": [
    "nan_label_before_model"
   ]
  },
  {
   "cell_type": "code",
   "execution_count": null,
   "metadata": {},
   "outputs": [],
   "source": [
    "nan_label['boxes']"
   ]
  },
  {
   "cell_type": "code",
   "execution_count": null,
   "metadata": {},
   "outputs": [],
   "source": [
    "for imgs, annotations in data_loader:    \n",
    "    imgs = list(img.to(device) for img in imgs)\n",
    "    annotations = [{k: v.to(device) for k, v in t.items()} for t in annotations]\n",
    "    plot_image(imgs[0], annotations[0])\n",
    "    break"
   ]
  },
  {
   "cell_type": "code",
   "execution_count": null,
   "metadata": {},
   "outputs": [],
   "source": [
    "len(imgs)"
   ]
  },
  {
   "cell_type": "code",
   "execution_count": null,
   "metadata": {},
   "outputs": [],
   "source": [
    "for i in range(4):\n",
    "    plot_image(nan_img_batch[i], nan_label_batch[i])"
   ]
  },
  {
   "cell_type": "code",
   "execution_count": null,
   "metadata": {},
   "outputs": [],
   "source": [
    "nan_label_batch[0]"
   ]
  },
  {
   "cell_type": "code",
   "execution_count": null,
   "metadata": {},
   "outputs": [],
   "source": [
    "cvn_idx_to_label_fn_dict[180]"
   ]
  },
  {
   "cell_type": "code",
   "execution_count": null,
   "metadata": {},
   "outputs": [],
   "source": []
  }
 ],
 "metadata": {
  "kernelspec": {
   "display_name": "Python 3",
   "language": "python",
   "name": "python3"
  },
  "language_info": {
   "codemirror_mode": {
    "name": "ipython",
    "version": 3
   },
   "file_extension": ".py",
   "mimetype": "text/x-python",
   "name": "python",
   "nbconvert_exporter": "python",
   "pygments_lexer": "ipython3",
   "version": "3.5.3"
  }
 },
 "nbformat": 4,
 "nbformat_minor": 4
}
